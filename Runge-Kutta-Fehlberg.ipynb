{
 "cells": [
  {
   "cell_type": "markdown",
   "metadata": {},
   "source": [
    "# Método de Runge-Kutta-Fehlberg"
   ]
  },
  {
   "cell_type": "markdown",
   "metadata": {},
   "source": [
    "Estuardo Díaz, 16110"
   ]
  },
  {
   "cell_type": "code",
   "execution_count": 2,
   "metadata": {},
   "outputs": [],
   "source": [
    "import numpy as np\n",
    "import matplotlib.pyplot as plt\n",
    "from scipy import special"
   ]
  },
  {
   "cell_type": "markdown",
   "metadata": {},
   "source": [
    "Este método nos permite aproximar una solución para $t\\in [a,b]$ para la ecuación \n",
    "$$ f(x,t) = \\frac{\\partial x}{\\partial t}$$"
   ]
  },
  {
   "cell_type": "markdown",
   "metadata": {},
   "source": [
    "El método recibe la funcion $f$, los límites del intervalo $a$ y $b$, una condición inicial $x_0$, una tolerancia de error de truncamiento, y cotas del tamaño del paso.\n",
    "\n",
    "Devuelve los valores de $t$ (variable independiente) y $x$ (variable dependiente) que son solución de la ecuación diferencial."
   ]
  },
  {
   "cell_type": "markdown",
   "metadata": {},
   "source": [
    "Para garantizar el funcionamiento del método, se pide que $f$ sea continua y cumpla con la condición de Lipschits, i.e. \n",
    "$|f(x_1)-f(x_2)| \\leq B|x_1-x_2|^\\beta$, $\\beta > 0$, $\\forall |x_1-x_2| < \\epsilon$."
   ]
  },
  {
   "cell_type": "markdown",
   "metadata": {},
   "source": [
    "## Método:\n",
    "Primero calculamos las constantes\n",
    "\\begin{align}\n",
    "k_1 &= h f\\Big(t_j,\\,\\,x_j\\Big)\\\\\n",
    "k_2 &= h f\\Big(t_j + \\frac{1}{4}h,\\,\\,  x_j+\\frac{1}{4}k_1\\Big)\\\\\n",
    "k_3 &= h f\\Big(t_j + \\frac{3}{8}h,\\,\\,  x_j+\\frac{3}{32}k_1+\\frac{9}{32}k_2\\Big)\\\\\n",
    "k_4 &= h f\\Big(t_j + \\frac{12}{13}h,\\,\\,  x_j+\\frac{1932}{2197}k_1 - \\frac{7200}{2197}k_2 + \\frac{7296}{2197}k_3\\Big)\\\\\n",
    "k_5 &= h f\\Big(t_j + h,\\,\\,  x_j+\\frac{439}{216}k_1 -8k_2 +\\frac{3680}{513}k_3 -\\frac{845}{4104}k_4\\Big)\\\\\n",
    "k_6 &= h f\\Big(t_j + \\frac{1}{2}h,\\,\\,  x_j -\\frac{8}{27}k_1+2k_2-\\frac{3544}{2565}k_3+\\frac{1859}{4104}k_4-\\frac{11}{40}k_5\\Big)\\\\\n",
    "\\end{align}\n",
    "\n",
    "Y luego podemos calcular el siguiente valor de $x$:\n",
    "$$x_{j+1} = x_j + \\frac{25}{216}k_1 +\\frac{1408}{2565}k_3 +\\frac{2197}{4104}k_4 - \\frac{1}{5}k_5$$"
   ]
  },
  {
   "cell_type": "code",
   "execution_count": 3,
   "metadata": {},
   "outputs": [],
   "source": [
    "def rkf( f, a, b, x0, tol = 0.01, hmax=0.2, hmin=0.05 ):\n",
    "    # Coeficients usados para calcular la variable independiente de f\n",
    "    a2  =   2.500000000000000e-01  #  1/4\n",
    "    a3  =   3.750000000000000e-01  #  3/8\n",
    "    a4  =   9.230769230769231e-01  #  12/13\n",
    "    a5  =   1.000000000000000e+00  #  1\n",
    "    a6  =   5.000000000000000e-01  #  1/2\n",
    "\n",
    "    # Coeficients usados para calcular la variable dependiente de f\n",
    "    b21 =   2.500000000000000e-01  #  1/4\n",
    "    b31 =   9.375000000000000e-02  #  3/32\n",
    "    b32 =   2.812500000000000e-01  #  9/32\n",
    "    b41 =   8.793809740555303e-01  #  1932/2197\n",
    "    b42 =  -3.277196176604461e+00  # -7200/2197\n",
    "    b43 =   3.320892125625853e+00  #  7296/2197\n",
    "    b51 =   2.032407407407407e+00  #  439/216\n",
    "    b52 =  -8.000000000000000e+00  # -8\n",
    "    b53 =   7.173489278752436e+00  #  3680/513\n",
    "    b54 =  -2.058966861598441e-01  # -845/4104\n",
    "    b61 =  -2.962962962962963e-01  # -8/27\n",
    "    b62 =   2.000000000000000e+00  #  2\n",
    "    b63 =  -1.381676413255361e+00  # -3544/2565\n",
    "    b64 =   4.529727095516569e-01  #  1859/4104\n",
    "    b65 =  -2.750000000000000e-01  # -11/40\n",
    "\n",
    "    # Coeficients para calcular la aproximacion del error de truncamiento local\n",
    "\n",
    "    r1  =   2.777777777777778e-03  #  1/360\n",
    "    r3  =  -2.994152046783626e-02  # -128/4275\n",
    "    r4  =  -2.919989367357789e-02  # -2197/75240\n",
    "    r5  =   2.000000000000000e-02  #  1/50\n",
    "    r6  =   3.636363636363636e-02  #  2/55\n",
    "\n",
    "    # Coeficients para calcular la aproximacion de 4to orden de \n",
    "    # Runge-Kutta\n",
    "\n",
    "    c1  =   1.157407407407407e-01  #  25/216\n",
    "    c3  =   5.489278752436647e-01  #  1408/2565\n",
    "    c4  =   5.353313840155945e-01  #  2197/4104\n",
    "    c5  =  -2.000000000000000e-01  # -1/5\n",
    "\n",
    "    # Condiciones iniciales\n",
    "  \n",
    "    t = a\n",
    "    x = x0\n",
    "    h = hmax\n",
    "\n",
    "    # Arrays con futuros resultados\n",
    "\n",
    "    T = np.array( [t] )\n",
    "    X = np.array( [x] )\n",
    "\n",
    "    while t < b:\n",
    "\n",
    "        # Ajustamos el tamaño del paso si llegamos al ultimo intervalo\n",
    "\n",
    "        if t + h > b:\n",
    "            h = b - t;\n",
    "\n",
    "        # Calculamos los valores necesarios para el algoritmo de \n",
    "        # Runge-Kutta de orden 4\n",
    "\n",
    "        k1 = h * f( x, t )\n",
    "        k2 = h * f( x + b21 * k1, t + a2 * h )\n",
    "        k3 = h * f( x + b31 * k1 + b32 * k2, t + a3 * h )\n",
    "        k4 = h * f( x + b41 * k1 + b42 * k2 + b43 * k3, t + a4 * h )\n",
    "        k5 = h * f( x + b51 * k1 + b52 * k2 + b53 * k3 + b54 * k4, t + a5 * h )\n",
    "        k6 = h * f( x + b61 * k1 + b62 * k2 + b63 * k3 + b64 * k4 + b65 * k5, \\\n",
    "                    t + a6 * h )\n",
    "\n",
    "        # Calculamos el estimado del error local de truncamiento.\n",
    "        # Si es suficientemente pequeño guardamos el estimado de 4to orden\n",
    "    \n",
    "        r = abs( r1 * k1 + r3 * k3 + r4 * k4 + r5 * k5 + r6 * k6 ) / h\n",
    "        if len( np.shape( r ) ) > 0:\n",
    "            r = max( r )\n",
    "        if r <= tol:\n",
    "            t = t + h\n",
    "            x = x + c1 * k1 + c3 * k3 + c4 * k4 + c5 * k5\n",
    "            T = np.append( T, t )\n",
    "            X = np.append( X, [x], 0 )\n",
    "\n",
    "        # Calculamos el siguiente paso\n",
    "        h = h * min( max( 0.84 * ( tol / r )**0.25, 0.1 ), 4.0 )\n",
    "\n",
    "        if h > hmax:\n",
    "            h = hmax\n",
    "        elif h < hmin:\n",
    "            break\n",
    "    return ( T, X )"
   ]
  },
  {
   "cell_type": "markdown",
   "metadata": {},
   "source": [
    "## Problema:\n",
    "Consideremos la ecuación diferencial $$\\frac{\\partial x}{\\partial t} = 1- tx$$ La solución exacta es $$x(t) = ce^{-t^2/2} + \\sqrt{\\frac{\\pi}{2}}e^{-t^2/2} erfi\\big(\\frac{t}{\\sqrt{2}}\\big)$$"
   ]
  },
  {
   "cell_type": "code",
   "execution_count": 4,
   "metadata": {},
   "outputs": [],
   "source": [
    "def f(x,t):\n",
    "    return 1-x*t"
   ]
  },
  {
   "cell_type": "code",
   "execution_count": 5,
   "metadata": {},
   "outputs": [],
   "source": [
    "def sol(t,c=0):\n",
    "    return np.exp(-(t**2)/2)*(c+np.sqrt(np.pi/2)*special.erfi(t/np.sqrt(2)))"
   ]
  },
  {
   "cell_type": "markdown",
   "metadata": {},
   "source": [
    "Comparamos entonces la solución obtenida con este método y la solución obtenida analíticamente"
   ]
  },
  {
   "cell_type": "code",
   "execution_count": 6,
   "metadata": {},
   "outputs": [
    {
     "data": {
      "image/png": "[encoded data removed]",
      "text/plain": [
       "<Figure size 432x288 with 1 Axes>"
      ]
     },
     "metadata": {},
     "output_type": "display_data"
    }
   ],
   "source": [
    "# Valores iniciales/de frontera\n",
    "x0 = 1\n",
    "a = 0\n",
    "b = 10\n",
    "\n",
    "# Solucion real\n",
    "t1 = np.linspace(a,b,1000)\n",
    "y = sol(t1,x0)\n",
    "\n",
    "# Aproximacion por el metodo Runge-Kutta-Fehlberg\n",
    "t, x = rkf( f, a, b, x0)\n",
    "\n",
    "# Graficar\n",
    "fig, ax = plt.subplots()\n",
    "ax.plot(t1, y, label='Solución real',linewidth=2)\n",
    "ax.plot(t, x, label='Runge-Kutta-Fehlberg')\n",
    "legend = ax.legend(loc='center right')\n",
    "plt.xlabel('t')\n",
    "plt.ylabel('x')\n",
    "plt.title('Comparación de la solución real y la aproximacion')\n",
    "plt.show()"
   ]
  },
  {
   "cell_type": "code",
   "execution_count": 7,
   "metadata": {},
   "outputs": [
    {
     "data": {
      "image/png": "[encoded data removed]",
      "text/plain": [
       "<Figure size 432x288 with 1 Axes>"
      ]
     },
     "metadata": {},
     "output_type": "display_data"
    }
   ],
   "source": [
    "y = sol(t,x0)\n",
    "plt.plot(t,x-y)\n",
    "plt.ylabel('x')\n",
    "plt.xlabel('t')\n",
    "plt.title('Error del metodo')\n",
    "plt.show()"
   ]
  },
  {
   "cell_type": "markdown",
   "metadata": {},
   "source": [
    "Como podemos observar, el error es bastante pequeño."
   ]
  },
  {
   "cell_type": "code",
   "execution_count": 8,
   "metadata": {},
   "outputs": [
    {
     "data": {
      "text/plain": [
       "array([ 0. ,  0.2,  0.4,  0.6,  0.8,  1. ,  1.2,  1.4,  1.6,  1.8,  2. ,\n",
       "        2.2,  2.4,  2.6,  2.8,  3. ,  3.2,  3.4,  3.6,  3.8,  4. ,  4.2,\n",
       "        4.4,  4.6,  4.8,  5. ,  5.2,  5.4,  5.6,  5.8,  6. ,  6.2,  6.4,\n",
       "        6.6,  6.8,  7. ,  7.2,  7.4,  7.6,  7.8,  8. ,  8.2,  8.4,  8.6,\n",
       "        8.8,  9. ,  9.2,  9.4,  9.6,  9.8, 10. , 10. ])"
      ]
     },
     "execution_count": 8,
     "metadata": {},
     "output_type": "execute_result"
    }
   ],
   "source": [
    "t"
   ]
  },
  {
   "cell_type": "code",
   "execution_count": null,
   "metadata": {},
   "outputs": [],
   "source": []
  }
 ],
 "metadata": {
  "kernelspec": {
   "display_name": "Python 3",
   "language": "python",
   "name": "python3"
  },
  "language_info": {
   "codemirror_mode": {
    "name": "ipython",
    "version": 3
   },
   "file_extension": ".py",
   "mimetype": "text/x-python",
   "name": "python",
   "nbconvert_exporter": "python",
   "pygments_lexer": "ipython3",
   "version": "3.6.5"
  }
 },
 "nbformat": 4,
 "nbformat_minor": 2
}
