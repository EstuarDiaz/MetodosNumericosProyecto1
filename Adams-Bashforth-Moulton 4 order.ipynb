{
 "cells": [
  {
   "cell_type": "markdown",
   "metadata": {},
   "source": [
    "# Método predictor-corrector de Adams-Bashforth-Moulton de 4to orden"
   ]
  },
  {
   "cell_type": "markdown",
   "metadata": {},
   "source": [
    "Estuardo Díaz, 16110"
   ]
  },
  {
   "cell_type": "code",
   "execution_count": 17,
   "metadata": {},
   "outputs": [],
   "source": [
    "import numpy as np\n",
    "import matplotlib.pyplot as plt\n",
    "from scipy import special"
   ]
  },
  {
   "cell_type": "markdown",
   "metadata": {},
   "source": [
    "Este método nos permite aproximar una solución para $t\\in [a,b]$ para la ecuación \n",
    "$$ f(x,t) = \\frac{\\partial x}{\\partial t}$$"
   ]
  },
  {
   "cell_type": "markdown",
   "metadata": {},
   "source": [
    "El método recibe la función $f$, un punto inicial $x_0$ y la lista de todos los puntos para los cuales queremos calcular los respectivos $x$. En el caso general, $x$ puede ser un vector y $f$ una función vectorial, con lo cual se tiene realmente un sistema de ecuaciones."
   ]
  },
  {
   "cell_type": "markdown",
   "metadata": {},
   "source": [
    "Para garantizar el funcionamiento del método, se pide que $f$ sea continua y cumpla con la condición de Lipschits, i.e. \n",
    "$|f(x_1)-f(x_2)| \\leq B|x_1-x_2|^\\beta$, $\\beta > 0$, $\\forall |x_1-x_2| < \\epsilon$."
   ]
  },
  {
   "cell_type": "markdown",
   "metadata": {},
   "source": [
    "El método de Adams-Bashforth-Moulton es realmente una modificación del método de Runge-Kutta. Primero se calculan tres constantes $f_1,f_2,f_3$ utilizando el metodo de Runge-Kutta y luego se utiliza el método de Adams-Bashforth-Moulton."
   ]
  },
  {
   "cell_type": "markdown",
   "metadata": {},
   "source": [
    "### Método:\n",
    "\\begin{align}\n",
    "t_{k+1} &= t_k + h\\\\\n",
    "p_{k+1} &= x_k + \\frac{h}{24}\\big( 55f_k - 59f_{k-1} + 37f_{k-2} - 9f_{k-3}\\big) \\\\\n",
    "x_{k+1} &= x_k + \\frac{h}{24}\\big( 9f(t_{k+1},p_{k+1}) + 19f_k - 5f_{k-1} + f_{k-2} \\big) \\\\\n",
    "\\end{align}\n",
    "Donde $f_k = f(x_k,t_k)$ y $a\\leq t \\leq b$"
   ]
  },
  {
   "cell_type": "code",
   "execution_count": 49,
   "metadata": {},
   "outputs": [],
   "source": [
    "# Implementación:\n",
    "# Recibe la funcion f(x,t), x_0 como la condicion inicial y la lista de los valores de t\n",
    "# en donde se calculara la solucion\n",
    "def pc4( f, x0, t ):\n",
    "    n = len( t )\n",
    "    x = np.array( [ x0 ] * n )\n",
    "    \n",
    "    # Empezamos con el metodo de Runge-Kutta de 4to orden.\n",
    "    # Los pasos adicionales que involucran las fi son para minimizar el\n",
    "    # numero de evaluaciones de la funcion necesarias.\n",
    "\n",
    "    f1 = f2 = f3 = 0\n",
    "    for i in range( min( 3, n - 1 ) ):\n",
    "        h = t[i+1] - t[i]\n",
    "        f0 = f( x[i], t[i] )\n",
    "        k1 = h * f0\n",
    "        k2 = h * f( x[i] + 0.5 * k1, t[i] + 0.5 * h )\n",
    "        k3 = h * f( x[i] + 0.5 * k2, t[i] + 0.5 * h )\n",
    "        k4 = h * f( x[i] + k3, t[i+1] )\n",
    "        x[i+1] = x[i] + ( k1 + 2.0 * ( k2 + k3 ) + k4 ) / 6.0\n",
    "        f1, f2, f3 = ( f0, f1, f2 )\n",
    "\n",
    "    # Empieza el método de Adams-Bashforth-Moulton\n",
    "\n",
    "    for i in range( 3, n - 1 ):\n",
    "        h = t[i+1] - t[i]\n",
    "        f0 = f( x[i], t[i] )\n",
    "        p = x[i] + h * ( 55.0 * f0 - 59.0 * f1 + 37.0 * f2 - 9.0 * f3 ) / 24.0\n",
    "        fp = f( p, t[i+1] )\n",
    "        x[i+1] = x[i] + h * ( 9.0 * fp + 19.0 * f0 - 5.0 * f1 + f2 ) / 24.0\n",
    "        f1, f2, f3 = ( f0, f1, f2 )\n",
    "\n",
    "    return x"
   ]
  },
  {
   "cell_type": "markdown",
   "metadata": {},
   "source": [
    "## Ejemplo\n",
    "Consideremos la ecuación diferencial $$\\frac{\\partial x}{\\partial t} = 1- tx$$ La solución exacta es $$x(t) = ce^{-t^2/2} + \\sqrt{\\frac{\\pi}{2}}e^{-t^2/2} erfi\\big(\\frac{t}{\\sqrt{2}}\\big)$$"
   ]
  },
  {
   "cell_type": "code",
   "execution_count": 50,
   "metadata": {},
   "outputs": [],
   "source": [
    "def f(x,t):\n",
    "    return 1-x*t"
   ]
  },
  {
   "cell_type": "code",
   "execution_count": 51,
   "metadata": {},
   "outputs": [],
   "source": [
    "def sol(t,c=0):\n",
    "    return np.exp(-(t**2)/2)*(c+np.sqrt(np.pi/2)*special.erfi(t/np.sqrt(2)))"
   ]
  },
  {
   "cell_type": "code",
   "execution_count": 52,
   "metadata": {},
   "outputs": [
    {
     "data": {
      "image/png": "[encoded data removed]",
      "text/plain": [
       "<Figure size 432x288 with 1 Axes>"
      ]
     },
     "metadata": {
      "needs_background": "light"
     },
     "output_type": "display_data"
    }
   ],
   "source": [
    "t = np.linspace(0,5,100)\n",
    "x0 = 1\n",
    "x = pc4(f,x0,t)\n",
    "y = sol(t,1)\n",
    "plt.plot(t,x)\n",
    "plt.plot(t,y)\n",
    "plt.ylabel('x')\n",
    "plt.xlabel('t')\n",
    "plt.show()"
   ]
  },
  {
   "cell_type": "code",
   "execution_count": 30,
   "metadata": {},
   "outputs": [
    {
     "data": {
      "text/plain": [
       "array([1, 1, 1, 1, 1, 1, 1, 1, 1, 1, 1, 1, 1, 1, 1, 1, 1, 1, 1, 1, 1, 0,\n",
       "       0, 0, 0, 0, 0, 0, 0, 0, 0, 0, 0, 0, 0, 0, 0, 0, 0, 0, 0, 0, 0, 0,\n",
       "       0, 0, 0, 0, 0, 0, 0, 0, 0, 0, 0, 0, 0, 0, 0, 0, 0, 0, 0, 0, 0, 0,\n",
       "       0, 0, 0, 0, 0, 0, 0, 0, 0, 0, 0, 0, 0, 0, 0, 0, 0, 0, 0, 0, 0, 0,\n",
       "       0, 0, 0, 0, 0, 0, 0, 0, 0, 0, 0, 0])"
      ]
     },
     "execution_count": 30,
     "metadata": {},
     "output_type": "execute_result"
    }
   ],
   "source": [
    "x"
   ]
  },
  {
   "cell_type": "code",
   "execution_count": null,
   "metadata": {},
   "outputs": [],
   "source": []
  }
 ],
 "metadata": {
  "kernelspec": {
   "display_name": "Python 3",
   "language": "python",
   "name": "python3"
  },
  "language_info": {
   "codemirror_mode": {
    "name": "ipython",
    "version": 3
   },
   "file_extension": ".py",
   "mimetype": "text/x-python",
   "name": "python",
   "nbconvert_exporter": "python",
   "pygments_lexer": "ipython3",
   "version": "3.7.1"
  }
 },
 "nbformat": 4,
 "nbformat_minor": 2
}
